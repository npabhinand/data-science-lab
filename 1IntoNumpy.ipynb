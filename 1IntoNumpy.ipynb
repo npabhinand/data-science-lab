{
 "cells": [
  {
   "cell_type": "code",
   "execution_count": 5,
   "id": "467d39f2",
   "metadata": {},
   "outputs": [
    {
     "name": "stdout",
     "output_type": "stream",
     "text": [
      "[3, 10, 5] [4, 6, 9]\n",
      "greater than\n",
      "[False  True False]\n",
      "greater equal\n",
      "[False  True False]\n",
      "less than\n",
      "[ True False  True]\n",
      "greater equal than\n",
      "[ True False  True]\n"
     ]
    }
   ],
   "source": [
    "import numpy as np\n",
    "x=[3,10,5]\n",
    "y=[4,6,9]\n",
    "print(x,y)\n",
    "print(\"greater than\")\n",
    "print(np.greater(x,y))\n",
    "print(\"greater than or equal\")\n",
    "print(np.greater_equal(x,y))\n",
    "print(\"less than\")\n",
    "print(np.less(x,y))\n",
    "print(\"less than or equal\")\n",
    "print(np.less_equal(x,y))"
   ]
  },
  {
   "cell_type": "code",
   "execution_count": 6,
   "id": "65cd5bd8",
   "metadata": {},
   "outputs": [
    {
     "name": "stdout",
     "output_type": "stream",
     "text": [
      "[30, 32, 34, 36, 38, 40, 42, 44, 46, 48, 50, 52, 54, 56, 58, 60, 62, 64, 66, 68]\n"
     ]
    }
   ],
   "source": [
    "even=[x for x in range(30,70) if x%2==0]\n",
    "print(even)"
   ]
  },
  {
   "cell_type": "code",
   "execution_count": 9,
   "id": "d8428004",
   "metadata": {},
   "outputs": [
    {
     "name": "stdout",
     "output_type": "stream",
     "text": [
      "[[1 0 0]\n",
      " [0 1 0]\n",
      " [0 0 1]]\n"
     ]
    }
   ],
   "source": [
    "i=np.identity(3,dtype='int64')\n",
    "print(i)"
   ]
  },
  {
   "cell_type": "code",
   "execution_count": 18,
   "id": "54c7fc38",
   "metadata": {},
   "outputs": [
    {
     "data": {
      "text/plain": [
       "array([  0,   1,   2,   3,   4,   5,   6,   7,   8,  -9, -10, -11, -12,\n",
       "       -13, -14, -15,  16,  17,  18,  19,  20])"
      ]
     },
     "execution_count": 18,
     "metadata": {},
     "output_type": "execute_result"
    }
   ],
   "source": [
    "n=np.arange(0,21)\n",
    "n[(n>=9) & (n<=15)]*=-1\n",
    "n"
   ]
  },
  {
   "cell_type": "code",
   "execution_count": 20,
   "id": "0579cded",
   "metadata": {},
   "outputs": [
    {
     "name": "stdout",
     "output_type": "stream",
     "text": [
      "[[1 0 0 0 0]\n",
      " [0 2 0 0 0]\n",
      " [0 0 3 0 0]\n",
      " [0 0 0 4 0]\n",
      " [0 0 0 0 5]]\n"
     ]
    }
   ],
   "source": [
    "i=np.identity(5,dtype='int64')\n",
    "np.fill_diagonal(i,[1,2,3,4,5])\n",
    "print(i)"
   ]
  },
  {
   "cell_type": "code",
   "execution_count": 27,
   "id": "cdda4e6b",
   "metadata": {},
   "outputs": [
    {
     "name": "stdout",
     "output_type": "stream",
     "text": [
      "[[1 2 3]\n",
      " [4 5 6]\n",
      " [7 8 9]]\n",
      "total sum:  45\n",
      "column sum:  [[12 15 18]]\n",
      "row sum:  [[ 6]\n",
      " [15]\n",
      " [24]]\n"
     ]
    }
   ],
   "source": [
    "a=np.matrix('1,2,3;4,5,6;7,8,9')\n",
    "print(a)\n",
    "print(\"total sum: \",np.sum(a))\n",
    "print(\"column sum: \",np.sum(a,axis=0))\n",
    "print(\"row sum: \",np.sum(a,axis=1))"
   ]
  },
  {
   "cell_type": "code",
   "execution_count": 33,
   "id": "543372db",
   "metadata": {},
   "outputs": [
    {
     "name": "stdout",
     "output_type": "stream",
     "text": [
      "[[1 2 3]\n",
      " [4 5 6]\n",
      " [7 8 9]]\n",
      "file is\n",
      " [[1 2 3]\n",
      " [4 5 6]\n",
      " [7 8 9]]\n"
     ]
    }
   ],
   "source": [
    "a=np.matrix('1,2,3;4,5,6;7,8,9')\n",
    "a=np.array(a)\n",
    "print(a)\n",
    "file=open(\"text.txt\",\"w\")\n",
    "c=str(a)\n",
    "file.write(c)\n",
    "file.close()\n",
    "file=open(\"text.txt\",\"r\")\n",
    "print(\"file is\\n\",file.read())\n",
    "file.close()\n"
   ]
  },
  {
   "cell_type": "code",
   "execution_count": 34,
   "id": "ab0717e1",
   "metadata": {},
   "outputs": [
    {
     "data": {
      "text/plain": [
       "array([False,  True, False])"
      ]
     },
     "execution_count": 34,
     "metadata": {},
     "output_type": "execute_result"
    }
   ],
   "source": [
    "a=[1,2,3]\n",
    "b=[3,2,4]\n",
    "np.equal(a,b)"
   ]
  },
  {
   "cell_type": "code",
   "execution_count": 44,
   "id": "1037d488",
   "metadata": {},
   "outputs": [
    {
     "name": "stdout",
     "output_type": "stream",
     "text": [
      "[[7 4 5 2]\n",
      " [8 7 1 1]\n",
      " [6 0 7 1]\n",
      " [2 6 4 8]]\n",
      "\n",
      "after swapp\n",
      "\n",
      " [[7 4 5 2]\n",
      " [8 7 1 1]\n",
      " [6 0 7 1]\n",
      " [2 6 4 8]]\n"
     ]
    }
   ],
   "source": [
    "a=np.random.randint(9,size=(4,4))\n",
    "print(a)\n",
    "a[0,-1]=a[-1,0]\n",
    "print(\"\\nafter swapp\\n\\n\",a)"
   ]
  },
  {
   "cell_type": "code",
   "execution_count": 50,
   "id": "622ddcbb",
   "metadata": {},
   "outputs": [
    {
     "name": "stdout",
     "output_type": "stream",
     "text": [
      "a = [1, 2, 3, 4]\n",
      "b = [5, 4, 6, 7]\n",
      "a*b = [ 5  8 18 28]\n"
     ]
    }
   ],
   "source": [
    "a=[1,2,3,4]\n",
    "b=[5,4,6,7]\n",
    "c=np.multiply(a,b)\n",
    "print(\"a =\",a)\n",
    "print(\"b =\",b)\n",
    "print(\"a*b =\",c)"
   ]
  },
  {
   "cell_type": "code",
   "execution_count": null,
   "id": "75b8bdbc",
   "metadata": {},
   "outputs": [],
   "source": []
  },
  {
   "cell_type": "code",
   "execution_count": null,
   "id": "0f6de57d",
   "metadata": {},
   "outputs": [],
   "source": []
  },
  {
   "cell_type": "code",
   "execution_count": null,
   "id": "a7c05957",
   "metadata": {},
   "outputs": [],
   "source": []
  }
 ],
 "metadata": {
  "kernelspec": {
   "display_name": "Python 3 (ipykernel)",
   "language": "python",
   "name": "python3"
  },
  "language_info": {
   "codemirror_mode": {
    "name": "ipython",
    "version": 3
   },
   "file_extension": ".py",
   "mimetype": "text/x-python",
   "name": "python",
   "nbconvert_exporter": "python",
   "pygments_lexer": "ipython3",
   "version": "3.9.12"
  }
 },
 "nbformat": 4,
 "nbformat_minor": 5
}
