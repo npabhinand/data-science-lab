{
 "cells": [
  {
   "cell_type": "code",
   "execution_count": 24,
   "id": "c6fc45b7-9adb-4d55-a21e-168bed358598",
   "metadata": {},
   "outputs": [
    {
     "name": "stdin",
     "output_type": "stream",
     "text": [
      "enter no. of rows 2\n",
      "enetr no. of colums 2\n"
     ]
    },
    {
     "name": "stdout",
     "output_type": "stream",
     "text": [
      "enter matrix1 elements\n"
     ]
    },
    {
     "name": "stdin",
     "output_type": "stream",
     "text": [
      " 54 5 84 58 2 8 4 8725 \n"
     ]
    },
    {
     "name": "stdout",
     "output_type": "stream",
     "text": [
      "enter matrix1 elements\n"
     ]
    },
    {
     "ename": "ValueError",
     "evalue": "cannot reshape array of size 8 into shape (2,2)",
     "output_type": "error",
     "traceback": [
      "\u001b[0;31m---------------------------------------------------------------------------\u001b[0m",
      "\u001b[0;31mValueError\u001b[0m                                Traceback (most recent call last)",
      "Input \u001b[0;32mIn [24]\u001b[0m, in \u001b[0;36m<cell line: 7>\u001b[0;34m()\u001b[0m\n\u001b[1;32m      5\u001b[0m elements1\u001b[38;5;241m=\u001b[39m \u001b[38;5;28mlist\u001b[39m(\u001b[38;5;28mmap\u001b[39m(\u001b[38;5;28mint\u001b[39m, \u001b[38;5;28minput\u001b[39m()\u001b[38;5;241m.\u001b[39msplit()))\n\u001b[1;32m      6\u001b[0m \u001b[38;5;28mprint\u001b[39m(\u001b[38;5;124m\"\u001b[39m\u001b[38;5;124menter matrix1 elements\u001b[39m\u001b[38;5;124m\"\u001b[39m)\n\u001b[0;32m----> 7\u001b[0m matrix1\u001b[38;5;241m=\u001b[39m\u001b[43mnp\u001b[49m\u001b[38;5;241;43m.\u001b[39;49m\u001b[43marray\u001b[49m\u001b[43m(\u001b[49m\u001b[43melements1\u001b[49m\u001b[43m)\u001b[49m\u001b[38;5;241;43m.\u001b[39;49m\u001b[43mreshape\u001b[49m\u001b[43m(\u001b[49m\u001b[43mrows\u001b[49m\u001b[43m,\u001b[49m\u001b[43mcol\u001b[49m\u001b[43m)\u001b[49m\n\u001b[1;32m      8\u001b[0m elements2\u001b[38;5;241m=\u001b[39m\u001b[38;5;28mlist\u001b[39m(\u001b[38;5;28mmap\u001b[39m(\u001b[38;5;28mint\u001b[39m, \u001b[38;5;28minput\u001b[39m()\u001b[38;5;241m.\u001b[39msplit()))\n\u001b[1;32m      9\u001b[0m matrix2\u001b[38;5;241m=\u001b[39mnp\u001b[38;5;241m.\u001b[39marray(elements2)\u001b[38;5;241m.\u001b[39mreshape(rows,col)\n",
      "\u001b[0;31mValueError\u001b[0m: cannot reshape array of size 8 into shape (2,2)"
     ]
    }
   ],
   "source": [
    "import numpy as np\n",
    "rows=int(input(\"enter no. of rows\"))\n",
    "col=int(input(\"enetr no. of colums\"))\n",
    "print(\"enter matrix1 elements\")\n",
    "elements1= list(map(int, input().split()))\n",
    "print(\"enter matrix1 elements\")\n",
    "matrix1=np.array(elements1).reshape(rows,col)\n",
    "elements2=list(map(int, input().split()))\n",
    "matrix2=np.array(elements2).reshape(rows,col)\n",
    "print(\"matrix1 \\n\",matrix1)\n",
    "print(\"matrix2 \\n\",matrix2)\n",
    "print(\"dot product \\n\",np.dot(matrix1,matrix2))\n",
    "print(\"transpose \\n\",np.transpose(matrix1))\n",
    "print(\"trace \\n\",np.trace(matrix1))\n",
    "print(\"rank \\n\",np.linalg.matrix_rank(matrix1))\n",
    "print(\"determinant \\n\",np.linalg.det(matrix1))\n",
    "print(\"inverse \\n\",np.linalg.inv(matrix1))\n",
    "w, v = np.linalg.eig(matrix1)\n",
    "print(\"\\nEigenvalues:\")\n",
    "print(w)\n",
    "print(\"\\nEigenvectors:\")\n",
    "print(v)"
   ]
  },
  {
   "cell_type": "code",
   "execution_count": null,
   "id": "5db0ed6d-7bf3-4ab9-a341-67f0eafab595",
   "metadata": {},
   "outputs": [],
   "source": []
  }
 ],
 "metadata": {
  "kernelspec": {
   "display_name": "Python 3 (ipykernel)",
   "language": "python",
   "name": "python3"
  },
  "language_info": {
   "codemirror_mode": {
    "name": "ipython",
    "version": 3
   },
   "file_extension": ".py",
   "mimetype": "text/x-python",
   "name": "python",
   "nbconvert_exporter": "python",
   "pygments_lexer": "ipython3",
   "version": "3.10.4"
  }
 },
 "nbformat": 4,
 "nbformat_minor": 5
}
