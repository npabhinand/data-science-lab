{
 "cells": [
  {
   "cell_type": "code",
   "execution_count": 4,
   "id": "8f93fd7f",
   "metadata": {},
   "outputs": [
    {
     "name": "stdout",
     "output_type": "stream",
     "text": [
      "enter no. of rows2\n",
      "enetr no. of colums2\n",
      "enter matrix1 elements\n",
      "1 2 3 4\n",
      "enter matrix2 elements\n",
      "3 2 1 5\n",
      "matrix1 \n",
      " [[1 2]\n",
      " [3 4]]\n",
      "matrix2 \n",
      " [[3 2]\n",
      " [1 5]]\n",
      "dot product \n",
      " [[ 5 12]\n",
      " [13 26]]\n",
      "transpose \n",
      " [[1 3]\n",
      " [2 4]]\n",
      "trace \n",
      " 5\n",
      "rank \n",
      " 2\n",
      "determinant \n",
      " -2.0000000000000004\n",
      "inverse \n",
      " [[-2.   1. ]\n",
      " [ 1.5 -0.5]]\n",
      "\n",
      "Eigenvalues:\n",
      "[-0.37228132  5.37228132]\n",
      "\n",
      "Eigenvectors:\n",
      "[[-0.82456484 -0.41597356]\n",
      " [ 0.56576746 -0.90937671]]\n"
     ]
    }
   ],
   "source": [
    "import numpy as np\n",
    "rows=int(input(\"enter no. of rows\"))\n",
    "col=int(input(\"enetr no. of colums\"))\n",
    "print(\"enter matrix1 elements\")\n",
    "elements1= list(map(int, input().split()))\n",
    "print(\"enter matrix2 elements\")\n",
    "elements2=list(map(int, input().split()))\n",
    "matrix1=np.array(elements1).reshape(rows,col)\n",
    "matrix2=np.array(elements2).reshape(rows,col)\n",
    "print(\"matrix1 \\n\",matrix1)\n",
    "print(\"matrix2 \\n\",matrix2)\n",
    "print(\"dot product \\n\",np.dot(matrix1,matrix2))\n",
    "print(\"transpose \\n\",np.transpose(matrix1))\n",
    "print(\"trace \\n\",np.trace(matrix1))\n",
    "print(\"rank \\n\",np.linalg.matrix_rank(matrix1))\n",
    "print(\"determinant \\n\",np.linalg.det(matrix1))\n",
    "print(\"inverse \\n\",np.linalg.inv(matrix1))\n",
    "w, v = np.linalg.eig(matrix1)\n",
    "print(\"\\nEigenvalues:\")\n",
    "print(w)\n",
    "print(\"\\nEigenvectors:\")\n",
    "print(v)\n"
   ]
  },
  {
   "cell_type": "code",
   "execution_count": null,
   "id": "482446eb",
   "metadata": {},
   "outputs": [],
   "source": []
  }
 ],
 "metadata": {
  "kernelspec": {
   "display_name": "Python 3 (ipykernel)",
   "language": "python",
   "name": "python3"
  },
  "language_info": {
   "codemirror_mode": {
    "name": "ipython",
    "version": 3
   },
   "file_extension": ".py",
   "mimetype": "text/x-python",
   "name": "python",
   "nbconvert_exporter": "python",
   "pygments_lexer": "ipython3",
   "version": "3.9.12"
  }
 },
 "nbformat": 4,
 "nbformat_minor": 5
}
